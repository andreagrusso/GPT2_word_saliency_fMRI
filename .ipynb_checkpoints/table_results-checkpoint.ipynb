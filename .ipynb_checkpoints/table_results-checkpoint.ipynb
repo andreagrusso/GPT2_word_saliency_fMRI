{
 "cells": [
  {
   "cell_type": "code",
   "execution_count": 1,
   "id": "4cdd98c2-c3b4-4d6d-bead-968135848d75",
   "metadata": {},
   "outputs": [],
   "source": [
    "import numpy as np\n",
    "import pandas as pd\n",
    "import os, pickle, csv, glob, copy"
   ]
  },
  {
   "cell_type": "code",
   "execution_count": 2,
   "id": "e053f85c-5d99-425b-a389-ce218107dbdb",
   "metadata": {},
   "outputs": [],
   "source": [
    "#change both the time window and the max t stat accordingly\n",
    "time_windows = ['15s','30s','45s','60s', '75s','90s']\n",
    "wdir = '/mnt/c/Users/andre/Desktop/Salerno/projects/gpt/output'"
   ]
  },
  {
   "cell_type": "code",
   "execution_count": 3,
   "id": "c0f83e52-08e8-4158-aac1-1c8467dcacb1",
   "metadata": {},
   "outputs": [
    {
     "name": "stdout",
     "output_type": "stream",
     "text": [
      "15s\n",
      "30s\n",
      "45s\n",
      "60s\n",
      "75s\n",
      "90s\n"
     ]
    }
   ],
   "source": [
    "#loop on time_window\n",
    "\n",
    "for time_window in time_windows:\n",
    "    print(time_window)\n",
    "    \n",
    "    surp_dir = os.path.join(wdir,time_window,'mixed_model_output')\n",
    "    importance_dir = os.path.join(wdir,time_window,'sliding_window_output')\n",
    "    \n",
    "    surp_results = pd.read_csv(os.path.join(surp_dir,'NoDur_Surp_FW_vs_BW_interaction.csv'),delimiter=',')\n",
    "    importance_results = pd.read_csv(os.path.join(importance_dir,'NoDur_Importance_FW_vs_BW.csv'),delimiter=',')\n",
    "    \n",
    "    for j,res in enumerate([surp_results,importance_results]):\n",
    "        \n",
    "        table = res[res['Bonf']==1]\n",
    "        table = table[table['t stat']>0]\n",
    "        table.drop(columns=['Bonf'], inplace=True)\n",
    "        if j==1:\n",
    "            table.drop(columns=['FDR'],inplace=True)\n",
    "            \n",
    "        \n",
    "        if j==0:\n",
    "            table.to_csv(os.path.join(surp_dir,'NoDur_results_table.csv'),index=False)\n",
    "        else:\n",
    "            table.to_csv(os.path.join(importance_dir,'NoDur_results_table.csv'),index=False)        "
   ]
  },
  {
   "cell_type": "markdown",
   "id": "a5d725aa-ab28-4d7c-8d32-c9201ea991fd",
   "metadata": {},
   "source": [
    "Try to find regions that are in common for all the time windows"
   ]
  },
  {
   "cell_type": "code",
   "execution_count": 4,
   "id": "bba4615e-777d-4a54-8bad-374008c4d510",
   "metadata": {},
   "outputs": [],
   "source": [
    "importance_table = pd.DataFrame([],columns=['Area','t stat','p-value'])\n",
    "\n",
    "       \n",
    "for j,path in enumerate(['mixed_model_output','sliding_window_output']):\n",
    "    \n",
    "    if j == 0:\n",
    "        tables = [pd.read_csv(os.path.join(wdir,time_window,path,'NoDur_results_table.csv')) for time_window in time_windows]\n",
    "    \n",
    "        all_areas = [tmp for table in tables for tmp in table['ID'].to_list()]\n",
    "        unique_areas = np.unique(all_areas)\n",
    "    \n",
    "        intersect_data = []\n",
    "        for area in unique_areas:\n",
    "            for i,table in enumerate(tables):\n",
    "                tmp_df = table[table['ID']==area].values\n",
    "                if tmp_df.size!=0:\n",
    "                    intersect_data.append([tmp_df[0][k] for k in range(len(table.columns))] + [(i+1)*15])\n",
    "        \n",
    "        surp_table = pd.DataFrame(intersect_data,columns=['ID','Area','t stat','p-value','time_window'])        \n",
    "        #surp_table.columns = ['ID','Area','t stat','p-value','a','time_window']\n",
    "    \n",
    "    else:\n",
    "        tables = [pd.read_csv(os.path.join(wdir,time_window,path,'NoDur_results_table.csv')) for time_window in time_windows]\n",
    "\n",
    "        all_areas = [tmp for table in tables for tmp in table['ID'].to_list()]\n",
    "        unique_areas = np.unique(all_areas)\n",
    "    \n",
    "        intersect_data = []\n",
    "        for area in unique_areas:\n",
    "            for i,table in enumerate(tables):\n",
    "                tmp_df = table[table['ID']==area].values\n",
    "                if tmp_df.size!=0:\n",
    "                    intersect_data.append([tmp_df[0][k] for k in range(len(table.columns))] + [(i+1)*15])    \n",
    "\n",
    "        importance_table = pd.DataFrame(intersect_data,columns=['ID','Area','t stat','p-value','time_window'])\n",
    "        #importance_table.columns = ['ID','Area','t stat','p-value','a','time_window']\n",
    "    "
   ]
  },
  {
   "cell_type": "code",
   "execution_count": null,
   "id": "c1fe1b68-7b70-4053-a327-bc3238bdbaf7",
   "metadata": {},
   "outputs": [],
   "source": []
  },
  {
   "cell_type": "code",
   "execution_count": 5,
   "id": "16d3fd45-cb84-4266-8afc-0c825a99234b",
   "metadata": {},
   "outputs": [],
   "source": [
    "p1=surp_table.pivot(index=['ID','Area'], columns='time_window', values=['t stat','p-value'])\n",
    "\n",
    "p2=importance_table.pivot(index=['ID','Area'], columns='time_window', values=['t stat','p-value'])"
   ]
  },
  {
   "cell_type": "code",
   "execution_count": 6,
   "id": "2544c830-f740-4a3d-a09e-b9716492e02e",
   "metadata": {},
   "outputs": [
    {
     "ename": "PermissionError",
     "evalue": "[Errno 13] Permission denied: '/mnt/c/Users/andre/Desktop/Salerno/projects/gpt/output/NoDur_importance_pivot.xlsx'",
     "output_type": "error",
     "traceback": [
      "\u001b[0;31m---------------------------------------------------------------------------\u001b[0m",
      "\u001b[0;31mPermissionError\u001b[0m                           Traceback (most recent call last)",
      "\u001b[0;32m/tmp/ipykernel_955/3387787596.py\u001b[0m in \u001b[0;36m<module>\u001b[0;34m\u001b[0m\n\u001b[1;32m      1\u001b[0m \u001b[0mp1\u001b[0m\u001b[0;34m.\u001b[0m\u001b[0mto_excel\u001b[0m\u001b[0;34m(\u001b[0m\u001b[0mos\u001b[0m\u001b[0;34m.\u001b[0m\u001b[0mpath\u001b[0m\u001b[0;34m.\u001b[0m\u001b[0mjoin\u001b[0m\u001b[0;34m(\u001b[0m\u001b[0mwdir\u001b[0m\u001b[0;34m,\u001b[0m\u001b[0;34m'NoDur_surp_pivot.xlsx'\u001b[0m\u001b[0;34m)\u001b[0m\u001b[0;34m)\u001b[0m\u001b[0;34m\u001b[0m\u001b[0;34m\u001b[0m\u001b[0m\n\u001b[0;32m----> 2\u001b[0;31m \u001b[0mp2\u001b[0m\u001b[0;34m.\u001b[0m\u001b[0mto_excel\u001b[0m\u001b[0;34m(\u001b[0m\u001b[0mos\u001b[0m\u001b[0;34m.\u001b[0m\u001b[0mpath\u001b[0m\u001b[0;34m.\u001b[0m\u001b[0mjoin\u001b[0m\u001b[0;34m(\u001b[0m\u001b[0mwdir\u001b[0m\u001b[0;34m,\u001b[0m\u001b[0;34m'NoDur_importance_pivot.xlsx'\u001b[0m\u001b[0;34m)\u001b[0m\u001b[0;34m)\u001b[0m\u001b[0;34m\u001b[0m\u001b[0;34m\u001b[0m\u001b[0m\n\u001b[0m",
      "\u001b[0;32m~/miniconda3/envs/py38/lib/python3.8/site-packages/pandas/core/generic.py\u001b[0m in \u001b[0;36mto_excel\u001b[0;34m(self, excel_writer, sheet_name, na_rep, float_format, columns, header, index, index_label, startrow, startcol, engine, merge_cells, encoding, inf_rep, verbose, freeze_panes, storage_options)\u001b[0m\n\u001b[1;32m   2282\u001b[0m             \u001b[0minf_rep\u001b[0m\u001b[0;34m=\u001b[0m\u001b[0minf_rep\u001b[0m\u001b[0;34m,\u001b[0m\u001b[0;34m\u001b[0m\u001b[0;34m\u001b[0m\u001b[0m\n\u001b[1;32m   2283\u001b[0m         )\n\u001b[0;32m-> 2284\u001b[0;31m         formatter.write(\n\u001b[0m\u001b[1;32m   2285\u001b[0m             \u001b[0mexcel_writer\u001b[0m\u001b[0;34m,\u001b[0m\u001b[0;34m\u001b[0m\u001b[0;34m\u001b[0m\u001b[0m\n\u001b[1;32m   2286\u001b[0m             \u001b[0msheet_name\u001b[0m\u001b[0;34m=\u001b[0m\u001b[0msheet_name\u001b[0m\u001b[0;34m,\u001b[0m\u001b[0;34m\u001b[0m\u001b[0;34m\u001b[0m\u001b[0m\n",
      "\u001b[0;32m~/miniconda3/envs/py38/lib/python3.8/site-packages/pandas/io/formats/excel.py\u001b[0m in \u001b[0;36mwrite\u001b[0;34m(self, writer, sheet_name, startrow, startcol, freeze_panes, engine, storage_options)\u001b[0m\n\u001b[1;32m    832\u001b[0m             \u001b[0;31m# error: Cannot instantiate abstract class 'ExcelWriter' with abstract\u001b[0m\u001b[0;34m\u001b[0m\u001b[0;34m\u001b[0m\u001b[0;34m\u001b[0m\u001b[0m\n\u001b[1;32m    833\u001b[0m             \u001b[0;31m# attributes 'engine', 'save', 'supported_extensions' and 'write_cells'\u001b[0m\u001b[0;34m\u001b[0m\u001b[0;34m\u001b[0m\u001b[0;34m\u001b[0m\u001b[0m\n\u001b[0;32m--> 834\u001b[0;31m             writer = ExcelWriter(  # type: ignore[abstract]\n\u001b[0m\u001b[1;32m    835\u001b[0m                 \u001b[0mwriter\u001b[0m\u001b[0;34m,\u001b[0m \u001b[0mengine\u001b[0m\u001b[0;34m=\u001b[0m\u001b[0mengine\u001b[0m\u001b[0;34m,\u001b[0m \u001b[0mstorage_options\u001b[0m\u001b[0;34m=\u001b[0m\u001b[0mstorage_options\u001b[0m\u001b[0;34m\u001b[0m\u001b[0;34m\u001b[0m\u001b[0m\n\u001b[1;32m    836\u001b[0m             )\n",
      "\u001b[0;32m~/miniconda3/envs/py38/lib/python3.8/site-packages/pandas/io/excel/_openpyxl.py\u001b[0m in \u001b[0;36m__init__\u001b[0;34m(self, path, engine, date_format, datetime_format, mode, storage_options, if_sheet_exists, engine_kwargs, **kwargs)\u001b[0m\n\u001b[1;32m     50\u001b[0m         \u001b[0mengine_kwargs\u001b[0m \u001b[0;34m=\u001b[0m \u001b[0mcombine_kwargs\u001b[0m\u001b[0;34m(\u001b[0m\u001b[0mengine_kwargs\u001b[0m\u001b[0;34m,\u001b[0m \u001b[0mkwargs\u001b[0m\u001b[0;34m)\u001b[0m\u001b[0;34m\u001b[0m\u001b[0;34m\u001b[0m\u001b[0m\n\u001b[1;32m     51\u001b[0m \u001b[0;34m\u001b[0m\u001b[0m\n\u001b[0;32m---> 52\u001b[0;31m         super().__init__(\n\u001b[0m\u001b[1;32m     53\u001b[0m             \u001b[0mpath\u001b[0m\u001b[0;34m,\u001b[0m\u001b[0;34m\u001b[0m\u001b[0;34m\u001b[0m\u001b[0m\n\u001b[1;32m     54\u001b[0m             \u001b[0mmode\u001b[0m\u001b[0;34m=\u001b[0m\u001b[0mmode\u001b[0m\u001b[0;34m,\u001b[0m\u001b[0;34m\u001b[0m\u001b[0;34m\u001b[0m\u001b[0m\n",
      "\u001b[0;32m~/miniconda3/envs/py38/lib/python3.8/site-packages/pandas/io/excel/_base.py\u001b[0m in \u001b[0;36m__init__\u001b[0;34m(self, path, engine, date_format, datetime_format, mode, storage_options, if_sheet_exists, engine_kwargs, **kwargs)\u001b[0m\n\u001b[1;32m    923\u001b[0m         \u001b[0mself\u001b[0m\u001b[0;34m.\u001b[0m\u001b[0mhandles\u001b[0m \u001b[0;34m=\u001b[0m \u001b[0mIOHandles\u001b[0m\u001b[0;34m(\u001b[0m\u001b[0mcast\u001b[0m\u001b[0;34m(\u001b[0m\u001b[0mBuffer\u001b[0m\u001b[0;34m,\u001b[0m \u001b[0mpath\u001b[0m\u001b[0;34m)\u001b[0m\u001b[0;34m,\u001b[0m \u001b[0mcompression\u001b[0m\u001b[0;34m=\u001b[0m\u001b[0;34m{\u001b[0m\u001b[0;34m\"copression\"\u001b[0m\u001b[0;34m:\u001b[0m \u001b[0;32mNone\u001b[0m\u001b[0;34m}\u001b[0m\u001b[0;34m)\u001b[0m\u001b[0;34m\u001b[0m\u001b[0;34m\u001b[0m\u001b[0m\n\u001b[1;32m    924\u001b[0m         \u001b[0;32mif\u001b[0m \u001b[0;32mnot\u001b[0m \u001b[0misinstance\u001b[0m\u001b[0;34m(\u001b[0m\u001b[0mpath\u001b[0m\u001b[0;34m,\u001b[0m \u001b[0mExcelWriter\u001b[0m\u001b[0;34m)\u001b[0m\u001b[0;34m:\u001b[0m\u001b[0;34m\u001b[0m\u001b[0;34m\u001b[0m\u001b[0m\n\u001b[0;32m--> 925\u001b[0;31m             self.handles = get_handle(\n\u001b[0m\u001b[1;32m    926\u001b[0m                 \u001b[0mpath\u001b[0m\u001b[0;34m,\u001b[0m \u001b[0mmode\u001b[0m\u001b[0;34m,\u001b[0m \u001b[0mstorage_options\u001b[0m\u001b[0;34m=\u001b[0m\u001b[0mstorage_options\u001b[0m\u001b[0;34m,\u001b[0m \u001b[0mis_text\u001b[0m\u001b[0;34m=\u001b[0m\u001b[0;32mFalse\u001b[0m\u001b[0;34m\u001b[0m\u001b[0;34m\u001b[0m\u001b[0m\n\u001b[1;32m    927\u001b[0m             )\n",
      "\u001b[0;32m~/miniconda3/envs/py38/lib/python3.8/site-packages/pandas/io/common.py\u001b[0m in \u001b[0;36mget_handle\u001b[0;34m(path_or_buf, mode, encoding, compression, memory_map, is_text, errors, storage_options)\u001b[0m\n\u001b[1;32m    709\u001b[0m         \u001b[0;32melse\u001b[0m\u001b[0;34m:\u001b[0m\u001b[0;34m\u001b[0m\u001b[0;34m\u001b[0m\u001b[0m\n\u001b[1;32m    710\u001b[0m             \u001b[0;31m# Binary mode\u001b[0m\u001b[0;34m\u001b[0m\u001b[0;34m\u001b[0m\u001b[0;34m\u001b[0m\u001b[0m\n\u001b[0;32m--> 711\u001b[0;31m             \u001b[0mhandle\u001b[0m \u001b[0;34m=\u001b[0m \u001b[0mopen\u001b[0m\u001b[0;34m(\u001b[0m\u001b[0mhandle\u001b[0m\u001b[0;34m,\u001b[0m \u001b[0mioargs\u001b[0m\u001b[0;34m.\u001b[0m\u001b[0mmode\u001b[0m\u001b[0;34m)\u001b[0m\u001b[0;34m\u001b[0m\u001b[0;34m\u001b[0m\u001b[0m\n\u001b[0m\u001b[1;32m    712\u001b[0m         \u001b[0mhandles\u001b[0m\u001b[0;34m.\u001b[0m\u001b[0mappend\u001b[0m\u001b[0;34m(\u001b[0m\u001b[0mhandle\u001b[0m\u001b[0;34m)\u001b[0m\u001b[0;34m\u001b[0m\u001b[0;34m\u001b[0m\u001b[0m\n\u001b[1;32m    713\u001b[0m \u001b[0;34m\u001b[0m\u001b[0m\n",
      "\u001b[0;31mPermissionError\u001b[0m: [Errno 13] Permission denied: '/mnt/c/Users/andre/Desktop/Salerno/projects/gpt/output/NoDur_importance_pivot.xlsx'"
     ]
    }
   ],
   "source": [
    "p1.to_excel(os.path.join(wdir,'NoDur_surp_pivot.xlsx'))\n",
    "p2.to_excel(os.path.join(wdir,'NoDur_importance_pivot.xlsx'))"
   ]
  },
  {
   "cell_type": "code",
   "execution_count": null,
   "id": "ce32eace-063a-427f-ba3e-e7abf729c067",
   "metadata": {},
   "outputs": [],
   "source": []
  }
 ],
 "metadata": {
  "kernelspec": {
   "display_name": "Python 3 (ipykernel)",
   "language": "python",
   "name": "python3"
  },
  "language_info": {
   "codemirror_mode": {
    "name": "ipython",
    "version": 3
   },
   "file_extension": ".py",
   "mimetype": "text/x-python",
   "name": "python",
   "nbconvert_exporter": "python",
   "pygments_lexer": "ipython3",
   "version": "3.7.11"
  }
 },
 "nbformat": 4,
 "nbformat_minor": 5
}
